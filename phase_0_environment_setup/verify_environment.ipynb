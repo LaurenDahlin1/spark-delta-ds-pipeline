{
 "cells": [
  {
   "cell_type": "markdown",
   "id": "c4e1385c",
   "metadata": {},
   "source": [
    "# Test the environment"
   ]
  },
  {
   "cell_type": "code",
   "execution_count": 1,
   "id": "d670539e",
   "metadata": {},
   "outputs": [
    {
     "name": "stdout",
     "output_type": "stream",
     "text": [
      "3.11.6 | packaged by conda-forge | (main, Oct  3 2023, 10:40:35) [GCC 12.3.0]\n"
     ]
    }
   ],
   "source": [
    "# Check Python version\n",
    "import sys\n",
    "print(sys.version)"
   ]
  },
  {
   "cell_type": "code",
   "execution_count": 2,
   "id": "b1280b81",
   "metadata": {},
   "outputs": [],
   "source": [
    "# Core packages\n",
    "import pandas as pd\n",
    "import numpy as np\n",
    "import matplotlib.pyplot as plt\n",
    "import h5py"
   ]
  },
  {
   "cell_type": "code",
   "execution_count": 3,
   "id": "21f84b20",
   "metadata": {},
   "outputs": [],
   "source": [
    "# ML / DS\n",
    "import sklearn\n",
    "import mlflow"
   ]
  },
  {
   "cell_type": "code",
   "execution_count": 4,
   "id": "a10c0bb8",
   "metadata": {},
   "outputs": [],
   "source": [
    "# PySpark and Delta\n",
    "from pyspark.sql import SparkSession\n",
    "from delta import configure_spark_with_delta_pip"
   ]
  },
  {
   "cell_type": "code",
   "execution_count": 5,
   "id": "df8097b7",
   "metadata": {},
   "outputs": [
    {
     "name": "stdout",
     "output_type": "stream",
     "text": [
      "3.5.0\n"
     ]
    }
   ],
   "source": [
    "# Confirm Spark is working\n",
    "builder = SparkSession.builder \\\n",
    "    .appName(\"test-environment\") \\\n",
    "    .config(\"spark.sql.extensions\", \"io.delta.sql.DeltaSparkSessionExtension\") \\\n",
    "    .config(\"spark.sql.catalog.spark_catalog\", \"org.apache.spark.sql.delta.catalog.DeltaCatalog\")\n",
    "\n",
    "spark = configure_spark_with_delta_pip(builder).getOrCreate()\n",
    "print(spark.version)"
   ]
  },
  {
   "cell_type": "code",
   "execution_count": 6,
   "id": "9e15fbad",
   "metadata": {},
   "outputs": [],
   "source": [
    "# Stop the Spark session\n",
    "# This is important to avoid resource leaks in a notebook environment\n",
    "# or when running multiple scripts in a row.\n",
    "spark.stop()"
   ]
  }
 ],
 "metadata": {
  "kernelspec": {
   "display_name": "base",
   "language": "python",
   "name": "python3"
  },
  "language_info": {
   "codemirror_mode": {
    "name": "ipython",
    "version": 3
   },
   "file_extension": ".py",
   "mimetype": "text/x-python",
   "name": "python",
   "nbconvert_exporter": "python",
   "pygments_lexer": "ipython3",
   "version": "3.11.6"
  }
 },
 "nbformat": 4,
 "nbformat_minor": 5
}
